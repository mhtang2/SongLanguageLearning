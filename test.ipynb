{
 "cells": [
  {
   "cell_type": "code",
   "execution_count": 10,
   "metadata": {},
   "outputs": [
    {
     "name": "stdout",
     "output_type": "stream",
     "text": [
      "The autoreload extension is already loaded. To reload it, use:\n",
      "  %reload_ext autoreload\n"
     ]
    }
   ],
   "source": [
    "%load_ext autoreload\n",
    "%autoreload 2"
   ]
  },
  {
   "cell_type": "code",
   "execution_count": 63,
   "metadata": {},
   "outputs": [],
   "source": [
    "from lyricsgenius import Genius\n",
    "import json\n",
    "from functions import *"
   ]
  },
  {
   "cell_type": "code",
   "execution_count": 44,
   "metadata": {},
   "outputs": [],
   "source": [
    "with open(\"apikeys.json\") as fp:\n",
    "    keys=  json.load(fp)\n",
    "genius = Genius(keys['genius']['token'])"
   ]
  },
  {
   "cell_type": "code",
   "execution_count": 65,
   "metadata": {},
   "outputs": [
    {
     "name": "stdout",
     "output_type": "stream",
     "text": [
      "Searching for \"hello\" by adele...\n",
      "Done.\n",
      "221 ContributorsTranslationsTürkçeEnglishPortuguêsEspañolFrançaisBahasa IndonesiaالعربيةDeutschHello Lyrics[Verse 1]\n",
      "Hello, it's me\n",
      "I was wondering if, after all these years, you'd like to meet\n",
      "To go over everything\n",
      "They say that time's supposed to heal ya\n",
      "But I ain't done much healin'\n",
      "Hello, can you hear me?\n",
      "I'm in California dreaming about who we used to be\n",
      "When we were younger and free\n",
      "I've forgotten how it felt before the world fell at our feet\n",
      "\n",
      "[Pre-Chorus]\n",
      "There's such a difference between us\n",
      "And a million miles\n",
      "[Chorus]\n",
      "Hello from the other side\n",
      "I must've called a thousand times\n",
      "To tell you I'm sorry for everything that I've done\n",
      "But when I call, you never seem to be home\n",
      "Hello from the outside\n",
      "At least, I can say that I've tried\n",
      "To tell you I'm sorry for breaking your heart\n",
      "But it don't matter, it clearly doesn't tear you apart anymore\n",
      "\n",
      "[Verse 2]\n",
      "Hello, how are you?\n",
      "It's so typical of me to talk about myself, I'm sorry\n",
      "I hope that you're well\n",
      "Did you ever make it out of that town\n",
      "Where nothing ever happened?\n",
      "See Adele LiveGet tickets as low as $91You might also like[Pre-Chorus]\n",
      "It's no secret that the both of us\n",
      "Are running out of time\n",
      "[Chorus]\n",
      "So hello from the other side (Other side)\n",
      "I must've called a thousand times (Thousand times)\n",
      "To tell you I'm sorry for everything that I've done\n",
      "But when I call, you never seem to be home\n",
      "Hello from the outside (Outside)\n",
      "At least, I can say that I've tried (I've tried)\n",
      "To tell you I'm sorry for breaking your heart\n",
      "But it don't matter, it clearly doesn't tear you apart anymore\n",
      "\n",
      "[Bridge]\n",
      "(Highs, highs, highs, highs, lows, lows, lows, lows) Ooh, anymore\n",
      "(Highs, highs, highs, highs, lows, lows, lows, lows) Ooh, anymore\n",
      "(Highs, highs, highs, highs, lows, lows, lows, lows) Ooh, anymore\n",
      "(Highs, highs, highs, highs, lows, lows, lows, lows) Anymore\n",
      "[Chorus]\n",
      "Hello from the other side (Other side)\n",
      "I must've called a thousand times (Thousand times)\n",
      "To tell you I'm sorry for everything that I've done\n",
      "But when I call, you never seem to be home\n",
      "Hello from the outside (Outside)\n",
      "At least, I can say that I've tried (I've tried)\n",
      "To tell you I'm sorry for breaking your heart\n",
      "But it don't matter, it clearly doesn't tear you apart anymore\n",
      "[Music Video]260Embed\n"
     ]
    }
   ],
   "source": [
    "# Way 1\n",
    "song = genius.search_song(\"hello\", \"adele\")\n",
    "print(song.lyrics)\n"
   ]
  },
  {
   "cell_type": "code",
   "execution_count": 66,
   "metadata": {},
   "outputs": [
    {
     "data": {
      "text/plain": [
       "2332455"
      ]
     },
     "execution_count": 66,
     "metadata": {},
     "output_type": "execute_result"
    }
   ],
   "source": [
    "song.id"
   ]
  },
  {
   "cell_type": "code",
   "execution_count": 67,
   "metadata": {},
   "outputs": [
    {
     "name": "stdout",
     "output_type": "stream",
     "text": [
      "[Verse 1]  \n",
      "Hello, it's me  \n",
      "I was wondering if, after all these years, you'd like to meet  \n",
      "To go over everything  \n",
      "They say that time's supposed to heal ya  \n",
      "But I ain't done much healin'  \n",
      "Hello, can you hear me?  \n",
      "I'm in California dreaming about who we used to be  \n",
      "When we were younger and free  \n",
      "I've forgotten how it felt before the world fell at our feet  \n",
      "  \n",
      "[Pre-Chorus]  \n",
      "There's such a difference between us  \n",
      "And a million miles  \n",
      "[Chorus]  \n",
      "Hello from the other side  \n",
      "I must've called a thousand times  \n",
      "To tell you I'm sorry for everything that I've done  \n",
      "But when I call, you never seem to be home  \n",
      "Hello from the outside  \n",
      "At least, I can say that I've tried  \n",
      "To tell you I'm sorry for breaking your heart  \n",
      "But it don't matter, it clearly doesn't tear you apart anymore  \n",
      "  \n",
      "[Verse 2]  \n",
      "Hello, how are you?  \n",
      "It's so typical of me to talk about myself, I'm sorry  \n",
      "I hope that you're well  \n",
      "Did you ever make it out of that town  \n",
      "Where nothing ever happened?  \n",
      "See Adele LiveGet tickets as low as $91[Pre-Chorus]  \n",
      "It's no secret that the both of us  \n",
      "Are running out of time  \n",
      "[Chorus]  \n",
      "So hello from the other side (Other side)  \n",
      "I must've called a thousand times (Thousand times)  \n",
      "To tell you I'm sorry for everything that I've done  \n",
      "But when I call, you never seem to be home  \n",
      "Hello from the outside (Outside)  \n",
      "At least, I can say that I've tried (I've tried)  \n",
      "To tell you I'm sorry for breaking your heart  \n",
      "But it don't matter, it clearly doesn't tear you apart anymore  \n",
      "  \n",
      "[Bridge]  \n",
      "(Highs, highs, highs, highs, lows, lows, lows, lows) Ooh, anymore  \n",
      "(Highs, highs, highs, highs, lows, lows, lows, lows) Ooh, anymore  \n",
      "(Highs, highs, highs, highs, lows, lows, lows, lows) Ooh, anymore  \n",
      "(Highs, highs, highs, highs, lows, lows, lows, lows) Anymore  \n",
      "[Chorus]  \n",
      "Hello from the other side (Other side)  \n",
      "I must've called a thousand times (Thousand times)  \n",
      "To tell you I'm sorry for everything that I've done  \n",
      "But when I call, you never seem to be home  \n",
      "Hello from the outside (Outside)  \n",
      "At least, I can say that I've tried (I've tried)  \n",
      "To tell you I'm sorry for breaking your heart  \n",
      "But it don't matter, it clearly doesn't tear you apart anymore  \n",
      "\n"
     ]
    }
   ],
   "source": [
    "clean_lyrics = format_lyrics(song.lyrics)\n",
    "print(clean_lyrics)"
   ]
  },
  {
   "cell_type": "code",
   "execution_count": 69,
   "metadata": {},
   "outputs": [
    {
     "data": {
      "text/plain": [
       "[('[Verse 1]',\n",
       "  \"  \\nHello, it's me  \\nI was wondering if, after all these years, you'd like to meet  \\nTo go over everything  \\nThey say that time's supposed to heal ya  \\nBut I ain't done much healin'  \\nHello, can you hear me?  \\nI'm in California dreaming about who we used to be  \\nWhen we were younger and free  \\nI've forgotten how it felt before the world fell at our feet  \\n  \\n\"),\n",
       " ('[Pre-Chorus]',\n",
       "  \"  \\nThere's such a difference between us  \\nAnd a million miles  \\n\"),\n",
       " ('[Chorus]',\n",
       "  \"  \\nHello from the other side  \\nI must've called a thousand times  \\nTo tell you I'm sorry for everything that I've done  \\nBut when I call, you never seem to be home  \\nHello from the outside  \\nAt least, I can say that I've tried  \\nTo tell you I'm sorry for breaking your heart  \\nBut it don't matter, it clearly doesn't tear you apart anymore  \\n  \\n\"),\n",
       " ('[Verse 2]',\n",
       "  \"  \\nHello, how are you?  \\nIt's so typical of me to talk about myself, I'm sorry  \\nI hope that you're well  \\nDid you ever make it out of that town  \\nWhere nothing ever happened?  \\nSee Adele LiveGet tickets as low as $91\"),\n",
       " ('[Pre-Chorus]',\n",
       "  \"  \\nIt's no secret that the both of us  \\nAre running out of time  \\n\"),\n",
       " ('[Chorus]',\n",
       "  \"  \\nSo hello from the other side (Other side)  \\nI must've called a thousand times (Thousand times)  \\nTo tell you I'm sorry for everything that I've done  \\nBut when I call, you never seem to be home  \\nHello from the outside (Outside)  \\nAt least, I can say that I've tried (I've tried)  \\nTo tell you I'm sorry for breaking your heart  \\nBut it don't matter, it clearly doesn't tear you apart anymore  \\n  \\n\"),\n",
       " ('[Bridge]',\n",
       "  '  \\n(Highs, highs, highs, highs, lows, lows, lows, lows) Ooh, anymore  \\n(Highs, highs, highs, highs, lows, lows, lows, lows) Ooh, anymore  \\n(Highs, highs, highs, highs, lows, lows, lows, lows) Ooh, anymore  \\n(Highs, highs, highs, highs, lows, lows, lows, lows) Anymore  \\n'),\n",
       " ('[Chorus]',\n",
       "  \"  \\nHello from the other side (Other side)  \\nI must've called a thousand times (Thousand times)  \\nTo tell you I'm sorry for everything that I've done  \\nBut when I call, you never seem to be home  \\nHello from the outside (Outside)  \\nAt least, I can say that I've tried (I've tried)  \\nTo tell you I'm sorry for breaking your heart  \\nBut it don't matter, it clearly doesn't tear you apart anymore  \\n\")]"
      ]
     },
     "execution_count": 69,
     "metadata": {},
     "output_type": "execute_result"
    }
   ],
   "source": [
    "split_lyrics(clean_lyrics)"
   ]
  },
  {
   "cell_type": "code",
   "execution_count": 53,
   "metadata": {},
   "outputs": [],
   "source": [
    "from openai import OpenAI\n",
    "client = OpenAI(api_key=keys['openai']['secret'])\n",
    "\n",
    "response = client.chat.completions.create(\n",
    "  model=\"gpt-3.5-turbo-16k\",\n",
    "  messages=[\n",
    "    {\n",
    "      \"role\": \"system\",\n",
    "      \"content\": [\n",
    "        {\n",
    "          \"text\": \"You are a expert of korean to english translation and grammar.\",\n",
    "          \"type\": \"text\"\n",
    "        }\n",
    "      ]\n",
    "    },\n",
    "    {\n",
    "      \"role\": \"user\",\n",
    "      \"content\": [\n",
    "        {\n",
    "          \"text\": \"i want you to translate the following song from korean to english. Along with the translation, provide notes explaining the translation line by line. I want you to break down the grammar of every word in each line.Here are the lyrics: \\n나는 읽기 쉬운 마음이야 \\n당신도 스윽 훑고 가셔요 \\n달랠 길 없는 외로운 마음 \\n있지 머물다 가셔요 음\",\n",
    "          \"type\": \"text\"\n",
    "        }\n",
    "      ]\n",
    "    }\n",
    "  ],\n",
    "  temperature=0,\n",
    "  max_tokens=1024,\n",
    "  top_p=1,\n",
    "  frequency_penalty=0,\n",
    "  presence_penalty=0\n",
    ")"
   ]
  },
  {
   "cell_type": "code",
   "execution_count": 55,
   "metadata": {},
   "outputs": [
    {
     "name": "stdout",
     "output_type": "stream",
     "text": [
      "I am an easy-to-read heart\n",
      "You also just take a quick glance and go\n",
      "A lonely heart with no way to console\n",
      "Just stay for a while and then go, um\n",
      "\n",
      "Line 1:\n",
      "- 나는 (na-neun): I am\n",
      "- 읽기 (il-kki): reading\n",
      "- 쉬운 (swi-un): easy\n",
      "- 마음이야 (ma-eum-i-ya): heart/am feeling\n",
      "\n",
      "Notes: The subject of the sentence is \"I\" (나는), and the verb is \"am\" (이다). The noun \"heart\" (마음) is modified by the adjective \"easy\" (쉬운), and the sentence ends with the casual sentence-ending particle \"야\" (이야) to express a casual tone.\n",
      "\n",
      "Line 2:\n",
      "- 당신도 (dang-shin-do): You also\n",
      "- 스윽 (seu-yuk): quickly\n",
      "- 훑고 (huk-go): glance\n",
      "- 가셔요 (ga-syeo-yo): go\n",
      "\n",
      "Notes: The subject of the sentence is \"you\" (당신), and the verb is \"go\" (가다). The adverb \"quickly\" (스윽) describes how the action is done, and the verb \"glance\" (훑다) is used with the verb ending \"-고\" (고) to connect it to the main verb. The polite sentence-ending particle \"요\" (요) is added to show politeness.\n",
      "\n",
      "Line 3:\n",
      "- 달랠 (dal-lael): console\n",
      "- 길 없는 (gil eop-neun): no way\n",
      "- 외로운 (we-ro-un): lonely\n",
      "- 마음 (ma-eum): heart\n",
      "\n",
      "Notes: The verb \"console\" (달래다) is used as a noun form \"console\" (달랠) to describe the heart. The adjective \"no\" (없는) modifies the noun \"way\" (길), and the adjective \"lonely\" (외로운) modifies the noun \"heart\" (마음).\n",
      "\n",
      "Line 4:\n",
      "- 있지 (it-ji): have\n",
      "- 머물다 (meo-mul-da): stay\n",
      "- 가셔요 (ga-syeo-yo): go\n",
      "\n",
      "Notes: The verb \"have\" (있다) is used in its present tense form \"있지\" to indicate possession. The verb \"stay\" (머물다) is used to describe the action, and the polite sentence-ending particle \"요\" (요) is added to show politeness.\n"
     ]
    }
   ],
   "source": [
    "print(response.choices[0].message.content)"
   ]
  },
  {
   "cell_type": "markdown",
   "metadata": {},
   "source": []
  },
  {
   "cell_type": "markdown",
   "metadata": {},
   "source": []
  },
  {
   "cell_type": "code",
   "execution_count": null,
   "metadata": {},
   "outputs": [],
   "source": []
  }
 ],
 "metadata": {
  "kernelspec": {
   "display_name": "default",
   "language": "python",
   "name": "python3"
  },
  "language_info": {
   "codemirror_mode": {
    "name": "ipython",
    "version": 3
   },
   "file_extension": ".py",
   "mimetype": "text/x-python",
   "name": "python",
   "nbconvert_exporter": "python",
   "pygments_lexer": "ipython3",
   "version": "3.11.9"
  }
 },
 "nbformat": 4,
 "nbformat_minor": 2
}
